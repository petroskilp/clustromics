{
 "cells": [
  {
   "cell_type": "code",
   "execution_count": 14,
   "metadata": {},
   "outputs": [],
   "source": [
    "###############################################################################\n",
    "# Libraries\n",
    "###############################################################################\n",
    "import os\n",
    "import json\n",
    "import time\n",
    "import glob\n",
    "\n",
    "import pandas as pd\n",
    "import numpy as np\n",
    "\n",
    "from sklearn import preprocessing\n",
    "\n",
    "from sklearn.model_selection import StratifiedKFold\n",
    "from sklearn.model_selection import KFold\n",
    "\n",
    "from sklearn.neighbors import KNeighborsClassifier\n",
    "from sklearn.svm import SVC\n",
    "from sklearn.linear_model import LogisticRegression\n",
    "from sklearn.tree import DecisionTreeClassifier\n",
    "from sklearn.naive_bayes import GaussianNB\n",
    "from sklearn.ensemble import RandomForestClassifier\n",
    "from sklearn.neural_network import MLPClassifier\n",
    "\n",
    "from sklearn.metrics import classification_report\n",
    "from sklearn.metrics import confusion_matrix\n",
    "from sklearn.metrics import roc_curve\n",
    "from sklearn.metrics import RocCurveDisplay\n",
    "from sklearn.metrics import auc\n",
    "\n",
    "from sklearn.preprocessing import StandardScaler\n",
    "\n",
    "from sklearn.feature_selection import VarianceThreshold\n",
    "from sklearn.ensemble import ExtraTreesClassifier\n",
    "from sklearn.feature_selection import SelectFromModel\n",
    "from sklearn.feature_selection import RFE\n",
    "from sklearn.model_selection import train_test_split\n",
    "from sklearn.metrics import accuracy_score\n",
    "from sklearn.metrics import plot_roc_curve\n",
    "import joblib\n",
    "import matplotlib.pyplot as plt"
   ]
  },
  {
   "cell_type": "code",
   "execution_count": 2,
   "metadata": {},
   "outputs": [],
   "source": [
    "###############################################################################\n",
    "# Parse dataset\n",
    "###############################################################################\n",
    "df = pd.read_csv('../../.test/results/ml/parsed_tpm.tsv', sep=\"\\t\", index_col=0)"
   ]
  },
  {
   "cell_type": "code",
   "execution_count": 3,
   "metadata": {},
   "outputs": [],
   "source": [
    "###############################################################################\n",
    "# Encode labels into numbers\n",
    "###############################################################################\n",
    "\n"
   ]
  },
  {
   "cell_type": "code",
   "execution_count": 4,
   "metadata": {},
   "outputs": [],
   "source": [
    "conditions = ['treatment_1', 'treatment_2']"
   ]
  },
  {
   "cell_type": "code",
   "execution_count": 5,
   "metadata": {},
   "outputs": [],
   "source": [
    "X = df.drop(columns=conditions)\n",
    "\n"
   ]
  },
  {
   "cell_type": "code",
   "execution_count": 7,
   "metadata": {},
   "outputs": [],
   "source": [
    "le={}\n",
    "y={}\n",
    "for cond in conditions:\n",
    "    le[cond] = preprocessing.LabelEncoder()\n",
    "    le[cond].fit(df[cond])\n",
    "    np.save(cond+'classes.npy', le[cond].classes_)\n",
    "    y[cond] = le[cond].transform(df[cond])"
   ]
  },
  {
   "cell_type": "code",
   "execution_count": 8,
   "metadata": {},
   "outputs": [
    {
     "name": "stderr",
     "output_type": "stream",
     "text": [
      "/home/petroskilp/.local/lib/python3.8/site-packages/pkg_resources/__init__.py:123: PkgResourcesDeprecationWarning: 0.1.36ubuntu1 is an invalid version and will not be supported in a future release\n",
      "  warnings.warn(\n",
      "/home/petroskilp/.local/lib/python3.8/site-packages/pkg_resources/__init__.py:123: PkgResourcesDeprecationWarning: 0.23ubuntu1 is an invalid version and will not be supported in a future release\n",
      "  warnings.warn(\n",
      "/home/petroskilp/.local/lib/python3.8/site-packages/pkg_resources/__init__.py:123: PkgResourcesDeprecationWarning: 1.13.1-unknown is an invalid version and will not be supported in a future release\n",
      "  warnings.warn(\n"
     ]
    },
    {
     "name": "stdout",
     "output_type": "stream",
     "text": [
      "Start feature importance for treatment_1\n",
      "[0]\tvalidation_0-logloss:0.69315\tvalidation_1-logloss:0.69315\n",
      "[99]\tvalidation_0-logloss:0.69315\tvalidation_1-logloss:0.69315\n",
      "Start feature importance for treatment_2\n",
      "[0]\tvalidation_0-logloss:0.69315\tvalidation_1-logloss:0.69315\n",
      "[99]\tvalidation_0-logloss:0.69315\tvalidation_1-logloss:0.69315\n"
     ]
    }
   ],
   "source": [
    "\n",
    "###############################################################################\n",
    "# Feature selection\n",
    "###############################################################################\n",
    "\n",
    "# import XGBClassifier\n",
    "from xgboost import XGBClassifier\n",
    "\n",
    "# declare parameters\n",
    "params = {\n",
    "            'objective':'binary:logistic',\n",
    "            'booster':'gbtree',\n",
    "            'max_depth': 4,\n",
    "            'alpha': 10,\n",
    "            'learning_rate': 0.1,\n",
    "            'n_estimators':100\n",
    "        }         \n",
    "               \n",
    "# instantiate the classifier \n",
    "xgb_clf = XGBClassifier(**params)\n",
    "\n",
    "\n",
    "for cond in conditions:\n",
    "    print(\"Start feature importance for {}\".format(cond))\n",
    "    X_train, X_test, y_train, y_test = train_test_split(X,y[cond] ,\n",
    "                                    random_state=104, \n",
    "                                    test_size=0.25, \n",
    "                                    shuffle=True)\n",
    "\n",
    "    xgb_clf.fit(X=X_train, y=y_train,\n",
    "                        eval_set=[(X_train, y_train), (X_test, y_test)],\n",
    "                        verbose=200)\n",
    "\n",
    "    fold_importance_df = pd.DataFrame()\n",
    "    fold_importance_df[\"feature\"] = X.columns\n",
    "    fold_importance_df[\"importance\"] = xgb_clf.feature_importances_\n",
    "\n",
    "    fold_importance_df.sort_values(by=[\"importance\"], inplace=True)\n",
    "    fold_importance_df.to_csv(cond+\"importance.tmp\", sep=\"\\t\", index=False)"
   ]
  },
  {
   "cell_type": "code",
   "execution_count": 20,
   "metadata": {},
   "outputs": [],
   "source": [
    "###############################################################################\n",
    "# Models\n",
    "###############################################################################\n",
    "\n",
    "models = {\n",
    "    'knn': KNeighborsClassifier(),\n",
    "    'svc': SVC(),\n",
    "    'lr' : LogisticRegression(), \n",
    "    'dt' : DecisionTreeClassifier(),\n",
    "    'gb' : GaussianNB(),\n",
    "    'rf' : RandomForestClassifier(),\n",
    "    'mlp': MLPClassifier()\n",
    "    }"
   ]
  },
  {
   "cell_type": "code",
   "execution_count": 21,
   "metadata": {},
   "outputs": [
    {
     "name": "stdout",
     "output_type": "stream",
     "text": [
      "Start process for condition: treatment_1\n",
      "****************************************************************************************************\n",
      "Start process for model: knn\n",
      "Trained model: knn in 0.05449700355529785\n",
      "Predicted model: knn in 0.1714785099029541\n",
      "Accuracy knn: 0.0\n",
      "[[0 1]\n",
      " [1 0]]\n"
     ]
    },
    {
     "name": "stderr",
     "output_type": "stream",
     "text": [
      "/home/petroskilp/.local/lib/python3.8/site-packages/sklearn/neighbors/_classification.py:228: FutureWarning: Unlike other reduction functions (e.g. `skew`, `kurtosis`), the default behavior of `mode` typically preserves the axis it acts along. In SciPy 1.11.0, this behavior will change: the default value of `keepdims` will become False, the `axis` over which the statistic is taken will be eliminated, and the value None will no longer be accepted. Set `keepdims` to True or False to avoid this warning.\n",
      "  mode, _ = stats.mode(_y[neigh_ind, k], axis=1)\n"
     ]
    },
    {
     "name": "stdout",
     "output_type": "stream",
     "text": [
      "****************************************************************************************************\n",
      "Start process for model: svc\n",
      "Trained model: svc in 0.12483644485473633\n",
      "Predicted model: svc in 0.18432998657226562\n",
      "Accuracy svc: 0.0\n",
      "[[0 1]\n",
      " [1 0]]\n",
      "****************************************************************************************************\n",
      "Start process for model: lr\n",
      "Trained model: lr in 0.1423327922821045\n",
      "Predicted model: lr in 0.28821420669555664\n",
      "Accuracy lr: 0.0\n",
      "[[0 1]\n",
      " [1 0]]\n",
      "****************************************************************************************************\n",
      "Start process for model: dt\n",
      "Trained model: dt in 0.1381208896636963\n",
      "Predicted model: dt in 0.21269440650939941\n",
      "Accuracy dt: 0.0\n",
      "[[0 1]\n",
      " [1 0]]\n",
      "****************************************************************************************************\n",
      "Start process for model: gb\n",
      "Trained model: gb in 0.07457971572875977\n",
      "Predicted model: gb in 0.14951181411743164\n",
      "Accuracy gb: 0.0\n",
      "[[0 1]\n",
      " [1 0]]\n",
      "****************************************************************************************************\n",
      "Start process for model: rf\n",
      "Trained model: rf in 0.24372577667236328\n",
      "Predicted model: rf in 0.3113589286804199\n",
      "Accuracy rf: 0.0\n",
      "[[0 1]\n",
      " [1 0]]\n",
      "****************************************************************************************************\n",
      "Start process for model: mlp\n",
      "Trained model: mlp in 0.7844150066375732\n",
      "Predicted model: mlp in 0.9002888202667236\n",
      "Accuracy mlp: 0.5\n",
      "[[1 0]\n",
      " [1 0]]\n",
      "Start process for condition: treatment_2\n",
      "****************************************************************************************************\n",
      "Start process for model: knn\n",
      "Trained model: knn in 0.0717618465423584\n",
      "Predicted model: knn in 0.14649057388305664\n",
      "Accuracy knn: 1.0\n",
      "[[1 0]\n",
      " [0 1]]\n"
     ]
    },
    {
     "name": "stderr",
     "output_type": "stream",
     "text": [
      "/home/petroskilp/.local/lib/python3.8/site-packages/sklearn/neighbors/_classification.py:228: FutureWarning: Unlike other reduction functions (e.g. `skew`, `kurtosis`), the default behavior of `mode` typically preserves the axis it acts along. In SciPy 1.11.0, this behavior will change: the default value of `keepdims` will become False, the `axis` over which the statistic is taken will be eliminated, and the value None will no longer be accepted. Set `keepdims` to True or False to avoid this warning.\n",
      "  mode, _ = stats.mode(_y[neigh_ind, k], axis=1)\n"
     ]
    },
    {
     "name": "stdout",
     "output_type": "stream",
     "text": [
      "****************************************************************************************************\n",
      "Start process for model: svc\n",
      "Trained model: svc in 0.05239224433898926\n",
      "Predicted model: svc in 0.10524392127990723\n",
      "Accuracy svc: 1.0\n",
      "[[1 0]\n",
      " [0 1]]\n",
      "****************************************************************************************************\n",
      "Start process for model: lr\n",
      "Trained model: lr in 0.09243607521057129\n",
      "Predicted model: lr in 0.23165059089660645\n",
      "Accuracy lr: 1.0\n",
      "[[1 0]\n",
      " [0 1]]\n",
      "****************************************************************************************************\n",
      "Start process for model: dt\n",
      "Trained model: dt in 0.14018630981445312\n",
      "Predicted model: dt in 0.24549126625061035\n",
      "Accuracy dt: 1.0\n",
      "[[1 0]\n",
      " [0 1]]\n",
      "****************************************************************************************************\n",
      "Start process for model: gb\n",
      "Trained model: gb in 0.10654234886169434\n",
      "Predicted model: gb in 0.2133493423461914\n",
      "Accuracy gb: 1.0\n",
      "[[1 0]\n",
      " [0 1]]\n",
      "****************************************************************************************************\n",
      "Start process for model: rf\n",
      "Trained model: rf in 0.31885647773742676\n",
      "Predicted model: rf in 0.3885915279388428\n",
      "Accuracy rf: 1.0\n",
      "[[1 0]\n",
      " [0 1]]\n",
      "****************************************************************************************************\n",
      "Start process for model: mlp\n",
      "Trained model: mlp in 0.8721795082092285\n",
      "Predicted model: mlp in 0.9841067790985107\n",
      "Accuracy mlp: 1.0\n",
      "[[1 0]\n",
      " [0 1]]\n"
     ]
    },
    {
     "data": {
      "image/png": "[encoded data removed]",
      "text/plain": [
       "<Figure size 432x288 with 1 Axes>"
      ]
     },
     "metadata": {
      "needs_background": "light"
     },
     "output_type": "display_data"
    },
    {
     "data": {
      "image/png": "[encoded data removed]",
      "text/plain": [
       "<Figure size 432x288 with 1 Axes>"
      ]
     },
     "metadata": {
      "needs_background": "light"
     },
     "output_type": "display_data"
    }
   ],
   "source": [
    "###############################################################################\n",
    "# Training pipeline\n",
    "###############################################################################\n",
    "for cond in conditions:\n",
    "    print(\"Start process for condition: {}\".format(cond))\n",
    "    fig = plt.figure()\n",
    "    ax = plt.gca()\n",
    "    for model_name in models:\n",
    "        \n",
    "        print(100*'*')\n",
    "        print(\"Start process for model: {}\".format(model_name))\n",
    "        \n",
    "        model = models[model_name]\n",
    "        \n",
    "        reports = []\n",
    "        \n",
    "            \n",
    "        start = time.time()\n",
    "        X_train, X_test, y_train, y_test = train_test_split(X,y[cond] ,\n",
    "                                    random_state=104, \n",
    "                                    test_size=0.25, \n",
    "                                    shuffle=True)\n",
    "        \n",
    "        # Train classifier\n",
    "        train_start = time.time()\n",
    "        model.fit(X_train, y_train)\n",
    "        train_finish = time.time() - train_start\n",
    "        \n",
    "        print(\"Trained model: {} in {}\".format(model_name, train_finish))\n",
    "        \n",
    "        # Predict on test set\n",
    "        y_pred = model.predict(X_test)\n",
    "        \n",
    "        print(\"Predicted model: {} in {}\".format(model_name, time.time() - start))\n",
    "        score = accuracy_score(y_test, y_pred)\n",
    "        print(\"Accuracy {}: {}\".format(model_name, score))\n",
    "        cm=confusion_matrix(y_test, y_pred)\n",
    "        print(cm)\n",
    "        #plot_roc_curve(model, X_test, y_test, ax=ax)\n",
    "        RocCurveDisplay.from_estimator(model, X_test, y_test, ax=ax)\n",
    "        joblib.dump(model, cond+\"_\"+model_name+\"model.pkl\")\n",
    "    plt.savefig(cond+'_roc_curve.png')"
   ]
  },
  {
   "cell_type": "code",
   "execution_count": null,
   "metadata": {},
   "outputs": [],
   "source": []
  }
 ],
 "metadata": {
  "kernelspec": {
   "display_name": "Python 3",
   "language": "python",
   "name": "python3"
  },
  "language_info": {
   "codemirror_mode": {
    "name": "ipython",
    "version": 3
   },
   "file_extension": ".py",
   "mimetype": "text/x-python",
   "name": "python",
   "nbconvert_exporter": "python",
   "pygments_lexer": "ipython3",
   "version": "3.8.10"
  },
  "orig_nbformat": 4
 },
 "nbformat": 4,
 "nbformat_minor": 2
}
